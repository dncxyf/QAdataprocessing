{
 "cells": [
  {
   "cell_type": "code",
   "execution_count": 1,
   "metadata": {
    "collapsed": true,
    "ExecuteTime": {
     "end_time": "2024-01-18T02:17:49.230077200Z",
     "start_time": "2024-01-18T02:17:48.504870800Z"
    }
   },
   "outputs": [],
   "source": [
    "#导入所需库\n",
    "#其中function_update是用于问卷数据聚合计算的函数和维度拆分函数等，具体注释参见function_update.py\n",
    "import numpy as np\n",
    "import pandas as pd\n",
    "from function_update import *"
   ]
  },
  {
   "cell_type": "code",
   "execution_count": 2,
   "outputs": [
    {
     "data": {
      "text/plain": "33.0"
     },
     "execution_count": 2,
     "metadata": {},
     "output_type": "execute_result"
    }
   ],
   "source": [
    "#测试强制四舍五入\n",
    "round(32.5)"
   ],
   "metadata": {
    "collapsed": false,
    "ExecuteTime": {
     "end_time": "2024-01-18T02:17:50.584150400Z",
     "start_time": "2024-01-18T02:17:50.505545100Z"
    }
   }
  },
  {
   "cell_type": "code",
   "execution_count": 3,
   "outputs": [],
   "source": [
    "#设置路径\n",
    "import os\n",
    "os.chdir('./data')"
   ],
   "metadata": {
    "collapsed": false
   }
  },
  {
   "cell_type": "code",
   "execution_count": 4,
   "outputs": [],
   "source": [
    "#导入数据，输出用于function表的index起始终止标记点,之后在function表上设置适用的函数和对应参数\n",
    "#说明：数据已脱敏。数据label信息以label+序号代替、问卷数据的题目标题以question+序号代替\n",
    "rawdata=pd.read_excel('input/sample_data_脱敏.xlsx')\n",
    "rawdata_list = rawdata.columns.to_list()\n",
    "make_index(rawdata_list)"
   ],
   "metadata": {
    "collapsed": false
   }
  },
  {
   "cell_type": "code",
   "execution_count": 7,
   "outputs": [],
   "source": [
    "#读取数据，这一步中列名会以序号代替，方便指定维度拆分的列\n",
    "qc,d = readxl('sample_data_脱敏.xlsx',sheet_name='data')"
   ],
   "metadata": {
    "collapsed": false,
    "ExecuteTime": {
     "end_time": "2024-01-18T02:35:03.611198Z",
     "start_time": "2024-01-18T02:35:03.072057Z"
    }
   }
  },
  {
   "cell_type": "code",
   "execution_count": 8,
   "outputs": [
    {
     "data": {
      "text/plain": "(144, 273)"
     },
     "execution_count": 8,
     "metadata": {},
     "output_type": "execute_result"
    }
   ],
   "source": [
    "qc.shape"
   ],
   "metadata": {
    "collapsed": false
   }
  },
  {
   "cell_type": "code",
   "execution_count": 9,
   "outputs": [
    {
     "data": {
      "text/plain": "   q1    q2         q3  q4  q5  q6    q7      q8    q9    q10  ... q264  q265  \\\n0   1  肿瘤内科  肿瘤内科-一线城市 NaN NaN NaN  一线城市  三级专科医院  肿瘤内科  副主任医师  ...    是     否   \n1   2  肿瘤内科  肿瘤内科-二线城市 NaN NaN NaN  二线城市  三级综合医院  肿瘤内科   主任医师  ...    否     否   \n2   3  肿瘤外科  肿瘤外科-二线城市 NaN NaN NaN  二线城市  三级综合医院  胃肠外科  副主任医师  ...    否     否   \n3   4  肿瘤内科  肿瘤内科-二线城市 NaN NaN NaN  二线城市  三级专科医院  肿瘤内科   主任医师  ...    否     否   \n4   5  肿瘤内科  肿瘤内科-二线城市 NaN NaN NaN  二线城市  三级综合医院  肿瘤内科   主任医师  ...    否     否   \n\n   q266  q267                   q268                       q269  q270    q271  \\\n0     否   NaN       1. <10,000元人民币/月           2.现有BRAF抑制剂医保前价格   NaN  0.3100   \n1     否   NaN  2.10,000-20,000元人民币/月                   4.患者经济能力   NaN  0.0925   \n2     否   NaN       1. <10,000元人民币/月                   4.患者经济能力   NaN  0.0430   \n3     否   NaN  3.20,000-30,000元人民币/月           2.现有BRAF抑制剂医保前价格   NaN  0.0730   \n4     否   NaN  2.10,000-20,000元人民币/月  1.现有标准治疗方案的价格（如化疗联合贝伐珠单抗）   NaN  0.0390   \n\n       q272   q273  \n0  0.269200  0.620  \n1  0.239900  0.625  \n2  0.128409  0.215  \n3  0.403654  0.685  \n4  0.171750  0.420  \n\n[5 rows x 273 columns]",
      "text/html": "<div>\n<style scoped>\n    .dataframe tbody tr th:only-of-type {\n        vertical-align: middle;\n    }\n\n    .dataframe tbody tr th {\n        vertical-align: top;\n    }\n\n    .dataframe thead th {\n        text-align: right;\n    }\n</style>\n<table border=\"1\" class=\"dataframe\">\n  <thead>\n    <tr style=\"text-align: right;\">\n      <th></th>\n      <th>q1</th>\n      <th>q2</th>\n      <th>q3</th>\n      <th>q4</th>\n      <th>q5</th>\n      <th>q6</th>\n      <th>q7</th>\n      <th>q8</th>\n      <th>q9</th>\n      <th>q10</th>\n      <th>...</th>\n      <th>q264</th>\n      <th>q265</th>\n      <th>q266</th>\n      <th>q267</th>\n      <th>q268</th>\n      <th>q269</th>\n      <th>q270</th>\n      <th>q271</th>\n      <th>q272</th>\n      <th>q273</th>\n    </tr>\n  </thead>\n  <tbody>\n    <tr>\n      <th>0</th>\n      <td>1</td>\n      <td>肿瘤内科</td>\n      <td>肿瘤内科-一线城市</td>\n      <td>NaN</td>\n      <td>NaN</td>\n      <td>NaN</td>\n      <td>一线城市</td>\n      <td>三级专科医院</td>\n      <td>肿瘤内科</td>\n      <td>副主任医师</td>\n      <td>...</td>\n      <td>是</td>\n      <td>否</td>\n      <td>否</td>\n      <td>NaN</td>\n      <td>1. &lt;10,000元人民币/月</td>\n      <td>2.现有BRAF抑制剂医保前价格</td>\n      <td>NaN</td>\n      <td>0.3100</td>\n      <td>0.269200</td>\n      <td>0.620</td>\n    </tr>\n    <tr>\n      <th>1</th>\n      <td>2</td>\n      <td>肿瘤内科</td>\n      <td>肿瘤内科-二线城市</td>\n      <td>NaN</td>\n      <td>NaN</td>\n      <td>NaN</td>\n      <td>二线城市</td>\n      <td>三级综合医院</td>\n      <td>肿瘤内科</td>\n      <td>主任医师</td>\n      <td>...</td>\n      <td>否</td>\n      <td>否</td>\n      <td>否</td>\n      <td>NaN</td>\n      <td>2.10,000-20,000元人民币/月</td>\n      <td>4.患者经济能力</td>\n      <td>NaN</td>\n      <td>0.0925</td>\n      <td>0.239900</td>\n      <td>0.625</td>\n    </tr>\n    <tr>\n      <th>2</th>\n      <td>3</td>\n      <td>肿瘤外科</td>\n      <td>肿瘤外科-二线城市</td>\n      <td>NaN</td>\n      <td>NaN</td>\n      <td>NaN</td>\n      <td>二线城市</td>\n      <td>三级综合医院</td>\n      <td>胃肠外科</td>\n      <td>副主任医师</td>\n      <td>...</td>\n      <td>否</td>\n      <td>否</td>\n      <td>否</td>\n      <td>NaN</td>\n      <td>1. &lt;10,000元人民币/月</td>\n      <td>4.患者经济能力</td>\n      <td>NaN</td>\n      <td>0.0430</td>\n      <td>0.128409</td>\n      <td>0.215</td>\n    </tr>\n    <tr>\n      <th>3</th>\n      <td>4</td>\n      <td>肿瘤内科</td>\n      <td>肿瘤内科-二线城市</td>\n      <td>NaN</td>\n      <td>NaN</td>\n      <td>NaN</td>\n      <td>二线城市</td>\n      <td>三级专科医院</td>\n      <td>肿瘤内科</td>\n      <td>主任医师</td>\n      <td>...</td>\n      <td>否</td>\n      <td>否</td>\n      <td>否</td>\n      <td>NaN</td>\n      <td>3.20,000-30,000元人民币/月</td>\n      <td>2.现有BRAF抑制剂医保前价格</td>\n      <td>NaN</td>\n      <td>0.0730</td>\n      <td>0.403654</td>\n      <td>0.685</td>\n    </tr>\n    <tr>\n      <th>4</th>\n      <td>5</td>\n      <td>肿瘤内科</td>\n      <td>肿瘤内科-二线城市</td>\n      <td>NaN</td>\n      <td>NaN</td>\n      <td>NaN</td>\n      <td>二线城市</td>\n      <td>三级综合医院</td>\n      <td>肿瘤内科</td>\n      <td>主任医师</td>\n      <td>...</td>\n      <td>否</td>\n      <td>否</td>\n      <td>否</td>\n      <td>NaN</td>\n      <td>2.10,000-20,000元人民币/月</td>\n      <td>1.现有标准治疗方案的价格（如化疗联合贝伐珠单抗）</td>\n      <td>NaN</td>\n      <td>0.0390</td>\n      <td>0.171750</td>\n      <td>0.420</td>\n    </tr>\n  </tbody>\n</table>\n<p>5 rows × 273 columns</p>\n</div>"
     },
     "execution_count": 9,
     "metadata": {},
     "output_type": "execute_result"
    }
   ],
   "source": [
    "qc.head()"
   ],
   "metadata": {
    "collapsed": false
   }
  },
  {
   "cell_type": "code",
   "execution_count": 12,
   "outputs": [
    {
     "name": "stdout",
     "output_type": "stream",
     "text": [
      "['肿瘤内科', '肿瘤外科']\n",
      "['一线城市', '二线城市', '三线城市']\n",
      "['肿瘤内科-一线城市', '肿瘤内科-二线城市', '肿瘤内科-三线城市', '肿瘤外科-一线城市', '肿瘤外科-二线城市', '肿瘤外科-三线城市']\n"
     ]
    }
   ],
   "source": [
    "#使用break down函数，指定分类列序号，输出顺序可指定或默认，参见function_update.py,所有break down维度存到input_dict列表里\n",
    "input_dict = {}\n",
    "input_dict['ALL'] = qc\n",
    "input_dict = break_down(qc,2,input_dict)\n",
    "input_dict = break_down(qc,7,input_dict,['一线城市', '二线城市', '三线城市'])\n",
    "input_dict = break_down(qc,3,input_dict,['肿瘤内科-一线城市', '肿瘤内科-二线城市', '肿瘤内科-三线城市', '肿瘤外科-一线城市', '肿瘤外科-二线城市', '肿瘤外科-三线城市'])"
   ],
   "metadata": {
    "collapsed": false
   }
  },
  {
   "cell_type": "code",
   "execution_count": 13,
   "outputs": [
    {
     "name": "stdout",
     "output_type": "stream",
     "text": [
      "ALL (144, 273)\n",
      "肿瘤内科 (108, 273)\n",
      "肿瘤外科 (36, 273)\n",
      "一线城市 (32, 273)\n",
      "二线城市 (64, 273)\n",
      "三线城市 (48, 273)\n",
      "肿瘤内科-一线城市 (24, 273)\n",
      "肿瘤内科-二线城市 (47, 273)\n",
      "肿瘤内科-三线城市 (37, 273)\n",
      "肿瘤外科-一线城市 (8, 273)\n",
      "肿瘤外科-二线城市 (17, 273)\n",
      "肿瘤外科-三线城市 (11, 273)\n"
     ]
    }
   ],
   "source": [
    "#检查维度拆分是否正确\n",
    "for k in input_dict:\n",
    "    #print(k)\n",
    "    print(k,input_dict[k].shape)"
   ],
   "metadata": {
    "collapsed": false
   }
  },
  {
   "cell_type": "code",
   "execution_count": 14,
   "outputs": [],
   "source": [
    "#导入函数参数表，函数参数表是在make_index后得到的问卷题目和起始终止标记点后，再设置具体使用的函数类型和对应的参数\n",
    "#这里需要根据报告所需的数据人工设置\n",
    "func_input = pd.read_excel('function/function_row_sample.xlsx')"
   ],
   "metadata": {
    "collapsed": false,
    "ExecuteTime": {
     "end_time": "2024-01-18T02:28:33.891375500Z",
     "start_time": "2024-01-18T02:28:33.812059300Z"
    }
   }
  },
  {
   "cell_type": "code",
   "execution_count": 15,
   "outputs": [
    {
     "data": {
      "text/plain": "          title  start  end         function    n  nan vc_base  index  columns\n0     Question7      7    7               vc  NaN  NaN     NaN    NaN        7\n1     Question8      8    8               vc  NaN  NaN     NaN    NaN        8\n2     Question9      9    9               vc  NaN  NaN     NaN    NaN        9\n3    Question10     10   10               vc  NaN  NaN     NaN    NaN       10\n4    Question11     11   11               vc  NaN  NaN     NaN    NaN       11\n..          ...    ...  ...              ...  ...  ...     ...    ...      ...\n78  Question246    246  250               vc  NaN  NaN   shape    NaN  246 250\n79  Question255    255  259  mean_percentage  NaN  NaN     NaN    NaN  255 259\n80  Question261    261  266               vc  NaN  NaN     NaN    NaN  261 266\n81  Question268    268  268               vc  NaN  NaN     NaN    NaN      268\n82  Question269    269  269               vc  NaN  NaN     NaN    NaN      269\n\n[83 rows x 9 columns]",
      "text/html": "<div>\n<style scoped>\n    .dataframe tbody tr th:only-of-type {\n        vertical-align: middle;\n    }\n\n    .dataframe tbody tr th {\n        vertical-align: top;\n    }\n\n    .dataframe thead th {\n        text-align: right;\n    }\n</style>\n<table border=\"1\" class=\"dataframe\">\n  <thead>\n    <tr style=\"text-align: right;\">\n      <th></th>\n      <th>title</th>\n      <th>start</th>\n      <th>end</th>\n      <th>function</th>\n      <th>n</th>\n      <th>nan</th>\n      <th>vc_base</th>\n      <th>index</th>\n      <th>columns</th>\n    </tr>\n  </thead>\n  <tbody>\n    <tr>\n      <th>0</th>\n      <td>Question7</td>\n      <td>7</td>\n      <td>7</td>\n      <td>vc</td>\n      <td>NaN</td>\n      <td>NaN</td>\n      <td>NaN</td>\n      <td>NaN</td>\n      <td>7</td>\n    </tr>\n    <tr>\n      <th>1</th>\n      <td>Question8</td>\n      <td>8</td>\n      <td>8</td>\n      <td>vc</td>\n      <td>NaN</td>\n      <td>NaN</td>\n      <td>NaN</td>\n      <td>NaN</td>\n      <td>8</td>\n    </tr>\n    <tr>\n      <th>2</th>\n      <td>Question9</td>\n      <td>9</td>\n      <td>9</td>\n      <td>vc</td>\n      <td>NaN</td>\n      <td>NaN</td>\n      <td>NaN</td>\n      <td>NaN</td>\n      <td>9</td>\n    </tr>\n    <tr>\n      <th>3</th>\n      <td>Question10</td>\n      <td>10</td>\n      <td>10</td>\n      <td>vc</td>\n      <td>NaN</td>\n      <td>NaN</td>\n      <td>NaN</td>\n      <td>NaN</td>\n      <td>10</td>\n    </tr>\n    <tr>\n      <th>4</th>\n      <td>Question11</td>\n      <td>11</td>\n      <td>11</td>\n      <td>vc</td>\n      <td>NaN</td>\n      <td>NaN</td>\n      <td>NaN</td>\n      <td>NaN</td>\n      <td>11</td>\n    </tr>\n    <tr>\n      <th>...</th>\n      <td>...</td>\n      <td>...</td>\n      <td>...</td>\n      <td>...</td>\n      <td>...</td>\n      <td>...</td>\n      <td>...</td>\n      <td>...</td>\n      <td>...</td>\n    </tr>\n    <tr>\n      <th>78</th>\n      <td>Question246</td>\n      <td>246</td>\n      <td>250</td>\n      <td>vc</td>\n      <td>NaN</td>\n      <td>NaN</td>\n      <td>shape</td>\n      <td>NaN</td>\n      <td>246 250</td>\n    </tr>\n    <tr>\n      <th>79</th>\n      <td>Question255</td>\n      <td>255</td>\n      <td>259</td>\n      <td>mean_percentage</td>\n      <td>NaN</td>\n      <td>NaN</td>\n      <td>NaN</td>\n      <td>NaN</td>\n      <td>255 259</td>\n    </tr>\n    <tr>\n      <th>80</th>\n      <td>Question261</td>\n      <td>261</td>\n      <td>266</td>\n      <td>vc</td>\n      <td>NaN</td>\n      <td>NaN</td>\n      <td>NaN</td>\n      <td>NaN</td>\n      <td>261 266</td>\n    </tr>\n    <tr>\n      <th>81</th>\n      <td>Question268</td>\n      <td>268</td>\n      <td>268</td>\n      <td>vc</td>\n      <td>NaN</td>\n      <td>NaN</td>\n      <td>NaN</td>\n      <td>NaN</td>\n      <td>268</td>\n    </tr>\n    <tr>\n      <th>82</th>\n      <td>Question269</td>\n      <td>269</td>\n      <td>269</td>\n      <td>vc</td>\n      <td>NaN</td>\n      <td>NaN</td>\n      <td>NaN</td>\n      <td>NaN</td>\n      <td>269</td>\n    </tr>\n  </tbody>\n</table>\n<p>83 rows × 9 columns</p>\n</div>"
     },
     "execution_count": 15,
     "metadata": {},
     "output_type": "execute_result"
    }
   ],
   "source": [
    "func_input"
   ],
   "metadata": {
    "collapsed": false,
    "ExecuteTime": {
     "end_time": "2024-01-18T02:28:35.114325Z",
     "start_time": "2024-01-18T02:28:35.067346800Z"
    }
   }
  },
  {
   "cell_type": "code",
   "execution_count": 16,
   "outputs": [],
   "source": [
    "#将function表转为字典以供调用\n",
    "func_dict = func_input.to_dict()"
   ],
   "metadata": {
    "collapsed": false,
    "ExecuteTime": {
     "end_time": "2024-01-18T02:28:40.256729700Z",
     "start_time": "2024-01-18T02:28:40.231159100Z"
    }
   }
  },
  {
   "cell_type": "code",
   "execution_count": 17,
   "outputs": [
    {
     "data": {
      "text/plain": "dict_keys(['title', 'start', 'end', 'function', 'n', 'nan', 'vc_base', 'index', 'columns'])"
     },
     "execution_count": 17,
     "metadata": {},
     "output_type": "execute_result"
    }
   ],
   "source": [
    "func_dict.keys()"
   ],
   "metadata": {
    "collapsed": false,
    "ExecuteTime": {
     "end_time": "2024-01-18T02:28:41.732050600Z",
     "start_time": "2024-01-18T02:28:41.716414500Z"
    }
   }
  },
  {
   "cell_type": "code",
   "execution_count": 21,
   "outputs": [
    {
     "name": "stdout",
     "output_type": "stream",
     "text": [
      "1/83 Question7\n",
      "2/83 Question8\n",
      "3/83 Question9\n",
      "4/83 Question10\n",
      "5/83 Question11\n",
      "6/83 Question12\n",
      "7/83 Question20\n",
      "8/83 Question21\n",
      "9/83 Question22\n",
      "10/83 Question24\n",
      "11/83 Question24\n",
      "12/83 Question26\n",
      "13/83 Question27\n",
      "14/83 Question28\n",
      "15/83 Question30\n",
      "16/83 Question32\n",
      "17/83 Question34\n",
      "18/83 Question36\n",
      "19/83 Question37\n",
      "20/83 Question38\n",
      "21/83 Question39\n",
      "22/83 Question40\n",
      "23/83 Question41\n",
      "24/83 Question42\n",
      "25/83 Question43\n",
      "26/83 Question44\n",
      "27/83 Question45\n",
      "28/83 Question46\n",
      "29/83 Question47\n",
      "30/83 Question48\n",
      "31/83 Question55\n",
      "32/83 Question55\n",
      "33/83 Question62\n",
      "34/83 Question70\n",
      "35/83 Question71\n",
      "36/83 Question79\n",
      "37/83 Question79\n",
      "38/83 Question86\n",
      "39/83 Question86\n",
      "40/83 Question96\n",
      "41/83 Question106\n",
      "42/83 Question115\n",
      "43/83 Question115\n",
      "44/83 Question120\n",
      "45/83 Question120\n",
      "46/83 Question124\n",
      "47/83 Question124\n",
      "48/83 Question128\n",
      "49/83 Question136\n",
      "50/83 Question141\n",
      "51/83 Question142\n",
      "52/83 Question144\n",
      "53/83 Question150\n",
      "54/83 Question151\n",
      "55/83 Question152\n",
      "56/83 Question153\n",
      "57/83 Question160\n",
      "58/83 Question165\n",
      "59/83 Question166\n",
      "60/83 Question168\n",
      "61/83 Question174\n",
      "62/83 Question175\n",
      "63/83 Question176\n",
      "64/83 Question177\n",
      "65/83 Question179\n",
      "66/83 Question180\n",
      "67/83 Question186\n",
      "68/83 Question199\n",
      "69/83 Question200\n",
      "70/83 Question207\n",
      "71/83 Question208\n",
      "72/83 Question209\n",
      "73/83 Question217\n",
      "74/83 Question218\n",
      "75/83 Question219\n",
      "76/83 Question226\n",
      "77/83 Question234\n",
      "78/83 Question244\n",
      "79/83 Question246\n",
      "80/83 Question255\n",
      "81/83 Question261\n",
      "82/83 Question268\n",
      "83/83 Question269\n"
     ]
    }
   ],
   "source": [
    "#执行程序部分：接受1.原始数据，2.break down维度拆分字典，3，function字典,输出报告所需的分析数据\n",
    "#需要先在output文件夹下创建output.xlsx空表,也可以用python创建，但默认格式和字体美观性差\n",
    "#注意：当output表非常长，超过1000行后，效率明显降低，原因可能是输出时为了在一张表上顺序排列，每输出一个问题，就会读取一次当前表的长度\n",
    "#可以尝试分表输出来解决，这里放在一张表上\n",
    "for i in range(func_input.shape[0]):\n",
    "    print(str(i+1)+'/'+str(func_input.shape[0]),func_dict['title'][i])\n",
    "    for k,v in input_dict.items():\n",
    "        if func_dict['function'][i] == 'mean_arrange':\n",
    "            locals()[func_dict['function'][i]](v,d,func_dict['columns'][i],k+'_'+func_dict['title'][i],func_dict['n'][i],func_dict['nan'][i])\n",
    "        elif func_dict['function'][i] == 'sum_percentage':\n",
    "            locals()[func_dict['function'][i]](v,d,func_dict['columns'][i],k+'_'+func_dict['title'][i],func_dict['n'][i])\n",
    "        elif func_dict['function'][i] == 'vc':\n",
    "            locals()[func_dict['function'][i]](v,d,func_dict['columns'][i],k+'_'+func_dict['title'][i],func_dict['vc_base'][i])\n",
    "        else:\n",
    "            locals()[func_dict['function'][i]](v,d,func_dict['columns'][i],k+'_'+func_dict['title'][i])"
   ],
   "metadata": {
    "collapsed": false,
    "ExecuteTime": {
     "end_time": "2024-01-18T02:43:04.632637500Z",
     "start_time": "2024-01-18T02:40:22.860219700Z"
    }
   }
  },
  {
   "cell_type": "code",
   "execution_count": null,
   "outputs": [],
   "source": [
    "#当程序出错时，根据中断的的索引debug\n",
    "i = 15\n",
    "for k,v in input_dict.items():\n",
    "        if func_dict['function'][i] == 'mean_arrange':\n",
    "            locals()[func_dict['function'][i]](v,d,func_dict['columns'][i],k+'_'+func_dict['title'][i],func_dict['n'][i],func_dict['nan'][i])\n",
    "        elif func_dict['function'][i] == 'sum_percentage':\n",
    "            locals()[func_dict['function'][i]](v,d,func_dict['columns'][i],k+'_'+func_dict['title'][i],func_dict['n'][i])\n",
    "        elif func_dict['function'][i] == 'vc':\n",
    "            locals()[func_dict['function'][i]](v,d,func_dict['columns'][i],k+'_'+func_dict['title'][i],func_dict['vc_base'][i])\n",
    "        else:\n",
    "            locals()[func_dict['function'][i]](v,d,func_dict['columns'][i],k+'_'+func_dict['title'][i])"
   ],
   "metadata": {
    "collapsed": false,
    "ExecuteTime": {
     "end_time": "2023-12-28T06:22:56.046152Z",
     "start_time": "2023-12-28T06:22:55.702260600Z"
    }
   }
  },
  {
   "cell_type": "code",
   "execution_count": null,
   "outputs": [],
   "source": [],
   "metadata": {
    "collapsed": false
   }
  }
 ],
 "metadata": {
  "kernelspec": {
   "name": "python3",
   "language": "python",
   "display_name": "Python 3 (ipykernel)"
  },
  "language_info": {
   "codemirror_mode": {
    "name": "ipython",
    "version": 2
   },
   "file_extension": ".py",
   "mimetype": "text/x-python",
   "name": "python",
   "nbconvert_exporter": "python",
   "pygments_lexer": "ipython2",
   "version": "2.7.6"
  }
 },
 "nbformat": 4,
 "nbformat_minor": 0
}
